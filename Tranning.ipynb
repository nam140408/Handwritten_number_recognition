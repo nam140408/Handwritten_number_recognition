{
 "cells": [
  {
   "cell_type": "markdown",
   "metadata": {},
   "source": [
    "# Tranning AI"
   ]
  },
  {
   "cell_type": "markdown",
   "metadata": {},
   "source": [
    "## Import libary"
   ]
  },
  {
   "cell_type": "code",
   "execution_count": 6,
   "metadata": {},
   "outputs": [],
   "source": [
    "import numpy\n",
    "import scipy.special\n",
    "import matplotlib.pyplot\n",
    "import imageio.v3\n",
    "import glob\n",
    "import math\n",
    "from tqdm import tqdm"
   ]
  },
  {
   "cell_type": "markdown",
   "metadata": {},
   "source": [
    "## Neural Network from scratch"
   ]
  },
  {
   "cell_type": "code",
   "execution_count": 7,
   "metadata": {},
   "outputs": [],
   "source": [
    "\n",
    "# Enhanced neural network class definition with multiple hidden layers\n",
    "class neuralNetwork:\n",
    "    \n",
    "    # initialise the neural network\n",
    "    def __init__(self, inputnodes, hidden_layers, num_hidden_nodes, outputnodes, learningrate):\n",
    "        \"\"\"\n",
    "        Initialize neural network with multiple hidden layers\n",
    "        \n",
    "        Args:\n",
    "            inputnodes: number of input nodes\n",
    "            hidden_layers: number of hidden layers\n",
    "            num_hidden_nodes: number of nodes in each hidden layer (same for all)\n",
    "            outputnodes: number of output nodes\n",
    "            learningrate: learning rate for training\n",
    "        \"\"\"\n",
    "        \n",
    "        # ==================== NETWORK ARCHITECTURE SETUP ====================\n",
    "        # Store the basic network configuration parameters\n",
    "        self.inodes = inputnodes              # number of input nodes\n",
    "        self.num_hidden_layers = hidden_layers    # number of hidden layers\n",
    "        self.hnodes = num_hidden_nodes        # nodes per hidden layer\n",
    "        self.onodes = outputnodes             # number of output nodes\n",
    "        \n",
    "        # Create complete layer configuration as a list\n",
    "        # Format: [input_nodes, hidden_nodes, hidden_nodes, ..., output_nodes]\n",
    "        # Example: [784, 10, 10, 10, ..., 10, 10] for 20 hidden layers of 10 nodes each\n",
    "        self.layer_config = [inputnodes] + [num_hidden_nodes] * hidden_layers + [outputnodes]\n",
    "        \n",
    "        # ==================== WEIGHT MATRICES INITIALIZATION ====================\n",
    "        # Initialize list to store all weight matrices between layers\n",
    "        self.weights = []\n",
    "        \n",
    "        # Create weight matrices between each pair of consecutive layers\n",
    "        # We need (total_layers - 1) weight matrices\n",
    "        for i in range(len(self.layer_config) - 1):\n",
    "            current_layer_nodes = self.layer_config[i]      # nodes in current layer\n",
    "            next_layer_nodes = self.layer_config[i + 1]     # nodes in next layer\n",
    "            \n",
    "            # Initialize weights using normal distribution\n",
    "            # Standard deviation = 1/sqrt(number of incoming connections)\n",
    "            # This helps prevent vanishing/exploding gradients\n",
    "            weight_matrix = numpy.random.normal(\n",
    "                0.0,                                    # mean = 0\n",
    "                pow(current_layer_nodes, -0.5),       # std = 1/sqrt(current_layer_nodes) \n",
    "                (next_layer_nodes, current_layer_nodes)    # shape: (next_layer × current_layer)\n",
    "            )\n",
    "            self.weights.append(weight_matrix)\n",
    "        \n",
    "        # ==================== TRAINING PARAMETERS ====================\n",
    "        # Set learning rate for gradient descent\n",
    "        self.lr = learningrate\n",
    "        \n",
    "        # ==================== ACTIVATION FUNCTION ====================\n",
    "        # Define activation function (sigmoid function)\n",
    "        # sigmoid(x) = 1 / (1 + e^(-x))\n",
    "        # Output range: (0, 1)\n",
    "        self.activation_function = lambda x: scipy.special.expit(x)\n",
    "        \n",
    "        pass\n",
    "    \n",
    "    # train the neural network using backpropagation\n",
    "    def train(self, inputs_list, targets_list):\n",
    "        \n",
    "        # ==================== INPUT PREPARATION ====================\n",
    "        # Convert input and target lists to 2D numpy arrays (column vectors)\n",
    "        inputs = numpy.array(inputs_list, ndmin=2).T    # shape: (input_nodes, 1)\n",
    "        targets = numpy.array(targets_list, ndmin=2).T   # shape: (output_nodes, 1)\n",
    "        \n",
    "        # ==================== FORWARD PROPAGATION ====================\n",
    "        # Store outputs from each layer for use in backpropagation\n",
    "        layer_outputs = [inputs]  # start with input layer output\n",
    "        \n",
    "        # Propagate signals forward through all layers\n",
    "        for i, weight_matrix in enumerate(self.weights):\n",
    "            # Calculate weighted sum of inputs to current layer\n",
    "            # matrix multiplication: weights × previous_layer_output\n",
    "            layer_inputs = numpy.dot(weight_matrix, layer_outputs[-1])\n",
    "            \n",
    "            # Apply activation function to get layer output\n",
    "            if i <= len(self.weights) - 1:\n",
    "                layer_output = self.activation_function(layer_inputs)\n",
    "            else:\n",
    "                layer_output = layer_inputs  # For output layer, we don't apply activation function\n",
    "            \n",
    "            # Store output for backpropagation\n",
    "            layer_outputs.append(layer_output)\n",
    "        \n",
    "        # The final output is the output from the last layer\n",
    "        final_outputs = layer_outputs[-1]\n",
    "        \n",
    "        # ==================== BACKWARD PROPAGATION (ERROR CALCULATION) ====================\n",
    "        # Calculate errors for each layer (starting from output layer)\n",
    "        # We'll store errors for each layer in the same order as layer_outputs\n",
    "        layer_errors = [None] * len(layer_outputs)  # Initialize with None values\n",
    "        \n",
    "        # Output layer error: difference between target and actual output\n",
    "        output_errors = targets - final_outputs\n",
    "        layer_errors[-1] = output_errors  # Last layer (output) gets the output errors\n",
    "        \n",
    "        # Calculate errors for hidden layers (working backwards)\n",
    "        # Error = (next_layer_weights^T) × (next_layer_errors)\n",
    "        for i in range(len(self.weights) - 1, 0, -1):\n",
    "            # i is the weight matrix index\n",
    "            # self.weights[i] connects layer i to layer i+1\n",
    "            # So we propagate error from layer i+1 back to layer i\n",
    "            hidden_errors = numpy.dot(self.weights[i].T, layer_errors[i + 1])\n",
    "            layer_errors[i] = hidden_errors\n",
    "        \n",
    "        # ==================== WEIGHT UPDATES (GRADIENT DESCENT) ====================\n",
    "        # Update weights for all layers using gradient descent\n",
    "        for i in range(len(self.weights)):\n",
    "            # Get outputs from the layer before current weight matrix (input to weights[i])\n",
    "            prev_layer_outputs = layer_outputs[i]\n",
    "            \n",
    "            # Get outputs and errors from the layer after current weight matrix (output from weights[i])\n",
    "            current_layer_outputs = layer_outputs[i + 1]\n",
    "            current_layer_errors = layer_errors[i + 1]\n",
    "            \n",
    "            # Calculate gradient using chain rule:\n",
    "            # gradient = error × sigmoid_derivative × previous_layer_output\n",
    "            # sigmoid_derivative = output × (1 - output)\n",
    "            gradient = (current_layer_errors * current_layer_outputs * (1.0 - current_layer_outputs))\n",
    "            \n",
    "            # Update weights: new_weight = old_weight + learning_rate × gradient × input\n",
    "            self.weights[i] += self.lr * numpy.dot(\n",
    "                gradient,                           # error term with derivative\n",
    "                numpy.transpose(prev_layer_outputs) # previous layer outputs (transposed)\n",
    "            )\n",
    "        \n",
    "        pass\n",
    "    \n",
    "    # query the neural network (make predictions)\n",
    "    def query(self, inputs_list):\n",
    "        \n",
    "        # ==================== INPUT PREPARATION ====================\n",
    "        # Convert inputs list to 2D numpy array (column vector)\n",
    "        inputs = numpy.array(inputs_list, ndmin=2).T    # shape: (input_nodes, 1)\n",
    "        \n",
    "        # ==================== FORWARD PROPAGATION ====================\n",
    "        # Start with input layer output\n",
    "        current_output = inputs\n",
    "        \n",
    "        # Propagate through all layers sequentially\n",
    "        for i, weight_matrix in enumerate(self.weights):\n",
    "            # Calculate weighted sum: weights × current_output\n",
    "            layer_inputs = numpy.dot(weight_matrix, current_output)\n",
    "            \n",
    "            # Apply activation function to get next layer output\n",
    "            if i <= len(self.weights) - 1:\n",
    "                current_output = self.activation_function(layer_inputs)\n",
    "            else:\n",
    "                current_output = layer_inputs\n",
    "        \n",
    "        # Return final network output\n",
    "        return current_output\n",
    "    \n",
    "    # utility method to print network architecture information\n",
    "    def print_architecture(self):\n",
    "        \"\"\"\n",
    "        Print detailed information about the network structure\n",
    "        \"\"\"\n",
    "        print(\"Neural Network Architecture:\")\n",
    "        print(f\"Input layer: {self.inodes} nodes\")\n",
    "        print(f\"Hidden layers: {self.num_hidden_layers} layers, {self.hnodes} nodes each\")\n",
    "        print(f\"Output layer: {self.onodes} nodes\")\n",
    "        print(f\"Total layers: {len(self.layer_config)}\")\n",
    "        print(f\"Total weight matrices: {len(self.weights)}\")\n",
    "        print(f\"Learning rate: {self.lr}\")"
   ]
  },
  {
   "cell_type": "code",
   "execution_count": 8,
   "metadata": {},
   "outputs": [],
   "source": [
    "input_nodes = 784           # Input layer: 784 nodes (e.g., 28×28 pixel image)\n",
    "hidden_layers = 5          # Number of hidden layers: 20\n",
    "num_hidden_nodes = 64       # Nodes per hidden layer: 10 \n",
    "output_nodes = 10           # Output layer: 10 nodes (e.g., digits 0-9)\n",
    "learning_rate = 0.00075         # Learning rate for training\n",
    "\n",
    "# Create instance of neural network\n",
    "n = neuralNetwork(input_nodes, hidden_layers, num_hidden_nodes, output_nodes, learning_rate)"
   ]
  },
  {
   "cell_type": "markdown",
   "metadata": {},
   "source": [
    "## Import tranning data"
   ]
  },
  {
   "cell_type": "code",
   "execution_count": 9,
   "metadata": {},
   "outputs": [],
   "source": [
    "# load the mnist training data CSV files into lists\n",
    "training_data_file1 = open(\"mnist_dataset/mnist_train.csv\", 'r')\n",
    "training_data_file2 = open(\"mnist_dataset/mnist_train_100.csv\", 'r')\n",
    "training_data_file3 = open(\"mnist_dataset/incorrect_images.csv\", 'r')\n",
    "\n",
    "training_data_list1 = training_data_file1.readlines()\n",
    "training_data_list2 = training_data_file2.readlines()\n",
    "training_data_list3 = training_data_file3.readlines()\n",
    "\n",
    "training_data_file1.close()\n",
    "training_data_file2.close()\n",
    "training_data_file3.close()\n",
    "\n",
    "# combine both lists\n",
    "training_data_list = training_data_list1 + training_data_list2 + training_data_list3"
   ]
  },
  {
   "cell_type": "markdown",
   "metadata": {},
   "source": [
    "## Tranning model"
   ]
  },
  {
   "cell_type": "code",
   "execution_count": 10,
   "metadata": {},
   "outputs": [
    {
     "name": "stderr",
     "output_type": "stream",
     "text": [
      "Epoch 1: 100%|██████████| 60108/60108 [07:18<00:00, 137.08samples/s, Acc=11.10%, Loss=0.3471]\n",
      "Epoch 2: 100%|██████████| 60108/60108 [06:34<00:00, 152.21samples/s, Acc=15.80%, Loss=0.3442]\n",
      "Epoch 3: 100%|██████████| 60108/60108 [06:42<00:00, 149.31samples/s, Acc=24.52%, Loss=0.3627]\n",
      "Epoch 4: 100%|██████████| 60108/60108 [06:41<00:00, 149.64samples/s, Acc=30.75%, Loss=0.3775]\n",
      "Epoch 5: 100%|██████████| 60108/60108 [06:51<00:00, 146.01samples/s, Acc=40.17%, Loss=0.3921]\n",
      "Epoch 6: 100%|██████████| 60108/60108 [06:48<00:00, 147.05samples/s, Acc=64.26%, Loss=0.4043]\n",
      "Epoch 7: 100%|██████████| 60108/60108 [06:46<00:00, 147.73samples/s, Acc=71.90%, Loss=0.4256]\n",
      "Epoch 8: 100%|██████████| 60108/60108 [06:49<00:00, 146.89samples/s, Acc=79.51%, Loss=0.4475]\n",
      "Epoch 9: 100%|██████████| 60108/60108 [07:05<00:00, 141.12samples/s, Acc=85.76%, Loss=0.4672]\n",
      "Epoch 10: 100%|██████████| 60108/60108 [09:23<00:00, 106.58samples/s, Acc=86.41%, Loss=0.4895]\n",
      "Epoch 11: 100%|██████████| 60108/60108 [10:10<00:00, 98.45samples/s, Acc=85.93%, Loss=0.5122] \n",
      "Epoch 12: 100%|██████████| 60108/60108 [09:54<00:00, 101.03samples/s, Acc=86.25%, Loss=0.5326]\n",
      "Epoch 13: 100%|██████████| 60108/60108 [13:48<00:00, 72.58samples/s, Acc=86.28%, Loss=0.5495] \n",
      "Epoch 14: 100%|██████████| 60108/60108 [13:09<00:00, 76.17samples/s, Acc=86.36%, Loss=0.5617] \n",
      "Epoch 15: 100%|██████████| 60108/60108 [09:04<00:00, 110.33samples/s, Acc=86.78%, Loss=0.5728]\n",
      "Epoch 16: 100%|██████████| 60108/60108 [08:07<00:00, 123.30samples/s, Acc=86.74%, Loss=0.5819]\n",
      "Epoch 17: 100%|██████████| 60108/60108 [08:08<00:00, 123.12samples/s, Acc=87.09%, Loss=0.5907]\n",
      "Epoch 18: 100%|██████████| 60108/60108 [08:14<00:00, 121.59samples/s, Acc=87.60%, Loss=0.5995]\n",
      "Epoch 19: 100%|██████████| 60108/60108 [10:48<00:00, 92.64samples/s, Acc=86.53%, Loss=0.6017] \n",
      "Epoch 20: 100%|██████████| 60108/60108 [11:02<00:00, 90.70samples/s, Acc=86.79%, Loss=0.6062] \n"
     ]
    }
   ],
   "source": [
    "import numpy as np\n",
    "from tqdm import tqdm\n",
    "\n",
    "def calculate_loss(predictions, targets):\n",
    "    L = targets * np.log(predictions) + (1 - targets) * np.log(1 - predictions)\n",
    "    return -np.mean(L)  \n",
    "# Training configuration\n",
    "epochs = 20\n",
    "output_nodes = 10\n",
    "\n",
    "for e in range(epochs):\n",
    "    scorecard = []\n",
    "    losses = []\n",
    "    \n",
    "    # Simple progress bar with accuracy and loss\n",
    "    with tqdm(training_data_list, desc=f\"Epoch {e+1}\", unit=\"samples\") as pbar:\n",
    "        for record in pbar:\n",
    "            all_values = record.split(',')\n",
    "            correct_label = int(all_values[0]) \n",
    "            \n",
    "            # Normalize inputs\n",
    "            inputs = (np.asarray(all_values[1:], dtype=float) / 255.0 * 0.99) + 0.01\n",
    "\n",
    "            # Make prediction\n",
    "            outputs = n.query(inputs)\n",
    "            predicted_label = np.argmax(outputs)\n",
    "            \n",
    "            # Create targets\n",
    "            targets = np.zeros(output_nodes) + 0.01\n",
    "            targets[correct_label] = 0.99\n",
    "            \n",
    "            # Calculate metrics\n",
    "            is_correct = 1 if predicted_label == correct_label else 0\n",
    "            scorecard.append(is_correct)\n",
    "            loss = calculate_loss(outputs, targets)\n",
    "            losses.append(loss)\n",
    "            \n",
    "            # Update progress bar with current accuracy and loss\n",
    "            current_accuracy = (sum(scorecard) / len(scorecard)) * 100\n",
    "            current_loss = np.mean(losses)\n",
    "            \n",
    "            pbar.set_postfix({\n",
    "                'Acc': f'{current_accuracy:.2f}%',\n",
    "                'Loss': f'{current_loss:.4f}'\n",
    "            })\n",
    "            \n",
    "            # Train the network\n",
    "            n.train(inputs, targets)"
   ]
  },
  {
   "cell_type": "markdown",
   "metadata": {},
   "source": [
    "## Check performance of AI"
   ]
  },
  {
   "cell_type": "code",
   "execution_count": 11,
   "metadata": {},
   "outputs": [],
   "source": [
    "# load the mnist test data CSV file into a list\n",
    "test_data_file1 = open(\"mnist_dataset/mnist_test.csv\", 'r')\n",
    "test_data_file2 = open(\"mnist_dataset/mnist_test_10.csv\", 'r')\n",
    "\n",
    "# read all lines into a list\n",
    "test_data_list1 = test_data_file1.readlines()\n",
    "test_data_list2 = test_data_file2.readlines()\n",
    "\n",
    "# close the files\n",
    "test_data_file1.close()\n",
    "test_data_file2.close()\n",
    "\n",
    "# concatenate the two lists\n",
    "test_data_list = test_data_list1 + test_data_list2\n"
   ]
  },
  {
   "cell_type": "code",
   "execution_count": 12,
   "metadata": {},
   "outputs": [
    {
     "data": {
      "image/png": "[encoded data removed]",
      "text/plain": [
       "<Figure size 1000x500 with 1 Axes>"
      ]
     },
     "metadata": {},
     "output_type": "display_data"
    }
   ],
   "source": [
    "import numpy as np\n",
    "import matplotlib.pyplot as plt\n",
    "\n",
    "# scorecard for how well the network performs, initially empty\n",
    "scorecard = []\n",
    "\n",
    "# list to store error rate after each test\n",
    "error_progress = []\n",
    "window_size = 10  # Kích thước cửa sổ trung bình động\n",
    "error_trend = []\n",
    "\n",
    "# go through all the records in the test data set\n",
    "for i, record in enumerate(test_data_list):\n",
    "    # split the record by the ',' commas\n",
    "    all_values = record.split(',')\n",
    "    # correct answer is first value\n",
    "    correct_label = int(all_values[0])\n",
    "    # scale and shift the inputs\n",
    "    inputs = (np.asarray(all_values[1:], dtype=float) / 255.0 * 0.99) + 0.01\n",
    "    # query the network\n",
    "    outputs = n.query(inputs)\n",
    "    # the index of the highest value corresponds to the label\n",
    "    label = np.argmax(outputs)\n",
    "    # append correct or incorrect to list\n",
    "    scorecard.append(1 if label == correct_label else 0)\n",
    "    \n",
    "    # calculate error rate after each test and store it\n",
    "    error_rate = 1 - sum(scorecard) / len(scorecard)  # in percentage\n",
    "    error_progress.append(error_rate)\n",
    "    \n",
    "    # Calculate cumulative moving average (trend line)\n",
    "    trend_value = np.mean(error_progress)\n",
    "    error_trend.append(trend_value)\n",
    "\n",
    "# plot the error rate progress\n",
    "plt.figure(figsize=(10, 5))\n",
    "plt.plot(error_progress, color='red', label='Error Rate')\n",
    "plt.plot(error_trend, color='blue', label='Error Rate Trend')\n",
    "plt.xlabel(\"Number of Tests\")\n",
    "plt.ylabel(\"Error Rate\")\n",
    "plt.title(\"Error Rate Progress of Neural Network\")\n",
    "plt.legend()\n",
    "plt.grid(True)\n",
    "plt.show()\n"
   ]
  },
  {
   "cell_type": "code",
   "execution_count": 13,
   "metadata": {},
   "outputs": [
    {
     "name": "stdout",
     "output_type": "stream",
     "text": [
      "performance =  0.8752247752247753\n"
     ]
    }
   ],
   "source": [
    "# calculate the performance score, the fraction of correct answers\n",
    "scorecard_array = numpy.asarray(scorecard)\n",
    "print (\"performance = \", scorecard_array.sum() / scorecard_array.size)"
   ]
  },
  {
   "cell_type": "markdown",
   "metadata": {},
   "source": [
    "## Test "
   ]
  },
  {
   "cell_type": "code",
   "execution_count": 34,
   "metadata": {},
   "outputs": [
    {
     "name": "stdout",
     "output_type": "stream",
     "text": [
      "loading ... t3.png\n",
      "0.01\n",
      "1.0\n",
      "Dataset loaded with 1 images\n"
     ]
    }
   ],
   "source": [
    "from PIL import Image\n",
    "\n",
    "import matplotlib.pyplot as plt\n",
    "our_own_dataset = []\n",
    "\n",
    "# load the png image data as test data set\n",
    "for image_file_name in glob.glob('t3.png'):\n",
    "    \n",
    "    # load image data and resize to 28x28 using PIL\n",
    "    print(\"loading ...\", image_file_name)\n",
    "    img = Image.open(image_file_name).convert('L')  # convert to grayscale\n",
    "    img_resized = img.resize((28, 28))  # resize to 28x28\n",
    "    \n",
    "    # convert image to numpy array\n",
    "    img_array = numpy.array(img_resized).astype(float)\n",
    "    \n",
    "    # reshape from 28x28 to list of 784 values, invert values\n",
    "    img_data = 255.0 - img_array.reshape(784)\n",
    "    \n",
    "    # then scale data to range from 0.01 to 1.0\n",
    "    img_data = (img_data / 255.0 * 0.99) + 0.01\n",
    "    print(numpy.min(img_data))\n",
    "    print(numpy.max(img_data))\n",
    "    \n",
    "    # append label and image data to test data set\n",
    "    our_own_dataset.append(img_data)\n",
    "\n",
    "print(\"Dataset loaded with\", len(our_own_dataset), \"images\")\n"
   ]
  },
  {
   "cell_type": "code",
   "execution_count": 35,
   "metadata": {},
   "outputs": [
    {
     "name": "stdout",
     "output_type": "stream",
     "text": [
      "[[0.00181989]\n",
      " [0.02849196]\n",
      " [0.80206933]\n",
      " [0.03466885]\n",
      " [0.03889796]\n",
      " [0.01240251]\n",
      " [0.0303789 ]\n",
      " [0.03453089]\n",
      " [0.02363345]\n",
      " [0.02370001]]\n",
      "Predicted label:  2\n",
      "Confidence: 80.21%\n"
     ]
    },
    {
     "data": {
      "image/png": "[encoded data removed]",
      "text/plain": [
       "<Figure size 640x480 with 1 Axes>"
      ]
     },
     "metadata": {},
     "output_type": "display_data"
    }
   ],
   "source": [
    "# test the neural network with our own images\n",
    "\n",
    "# record to test\n",
    "item = 0\n",
    "\n",
    "# plot image\n",
    "plt.imshow(our_own_dataset[item].reshape(28, 28), cmap='Greys', interpolation='None')\n",
    "\n",
    "# correct answer is first value\n",
    "correct_label = our_own_dataset[item][0]\n",
    "# data is remaining values\n",
    "inputs = our_own_dataset[item]\n",
    "\n",
    "# query the network\n",
    "outputs = n.query(inputs)\n",
    "print (outputs)\n",
    "\n",
    "# the index of the highest value corresponds to the label\n",
    "label = numpy.argmax(outputs)\n",
    "print(\"Predicted label: \", label)\n",
    "\n",
    "confidence = outputs[label].item() * 100\n",
    "print(f\"Confidence: {confidence:.2f}%\")\n",
    "\n",
    "plt.title(f\"Predicted: {label}, Confident: {confidence:.2f}%\")\n",
    "plt.show()\n"
   ]
  },
  {
   "cell_type": "markdown",
   "metadata": {},
   "source": [
    "## Save ANN model"
   ]
  },
  {
   "cell_type": "code",
   "execution_count": null,
   "metadata": {},
   "outputs": [],
   "source": [
    "import numpy as np\n",
    "\n",
    "# Hàm lưu mô hình\n",
    "def save_model(network, filename):\n",
    "    # Lưu trọng số (weights) của mạng vào file\n",
    "    np.save(filename + '_wih.npy', network.wih)  # Lưu trọng số từ input đến hidden layer\n",
    "    np.save(filename + '_who.npy', network.who)  # Lưu trọng số từ hidden đến output layer\n",
    "    print(f\"Model saved to {filename}.\")\n",
    "save_model(n, 'my_model')"
   ]
  }
 ],
 "metadata": {
  "kernelspec": {
   "display_name": "Python 3",
   "language": "python",
   "name": "python3"
  },
  "language_info": {
   "codemirror_mode": {
    "name": "ipython",
    "version": 3
   },
   "file_extension": ".py",
   "mimetype": "text/x-python",
   "name": "python",
   "nbconvert_exporter": "python",
   "pygments_lexer": "ipython3",
   "version": "3.11.9"
  }
 },
 "nbformat": 4,
 "nbformat_minor": 2
}
