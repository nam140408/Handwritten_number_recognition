{
 "cells": [
  {
   "cell_type": "markdown",
   "metadata": {},
   "source": [
    "# AI Handwritting Recognition ver 1"
   ]
  },
  {
   "cell_type": "markdown",
   "metadata": {},
   "source": [
    "## Import libary"
   ]
  },
  {
   "cell_type": "code",
   "execution_count": 25,
   "metadata": {
    "collapsed": true
   },
   "outputs": [],
   "source": [
    "import numpy\n",
    "# scipy.special for the sigmoid function expit()\n",
    "import scipy.special\n",
    "# library for plotting arrays\n",
    "import matplotlib.pyplot as plt\n",
    "import imageio.v3\n",
    "# glob helps select multiple files using patterns\n",
    "import glob"
   ]
  },
  {
   "cell_type": "markdown",
   "metadata": {},
   "source": [
    "## Neural Network from scratch"
   ]
  },
  {
   "cell_type": "code",
   "execution_count": 26,
   "metadata": {},
   "outputs": [],
   "source": [
    "# neural network class definition\n",
    "class neuralNetwork:\n",
    "    \n",
    "    \n",
    "    # initialise the neural network\n",
    "    def __init__(self, inputnodes, hiddennodes, outputnodes, learningrate):\n",
    "        # set number of nodes in each input, hidden, output layer\n",
    "        self.inodes = inputnodes\n",
    "        self.hnodes = hiddennodes\n",
    "        self.onodes = outputnodes\n",
    "        \n",
    "        # link weight matrices, wih and who\n",
    "        # weights inside the arrays are w_i_j, where link is from node i to node j in the next layer\n",
    "        # w11 w21\n",
    "        # w12 w22 etc \n",
    "        self.wih = numpy.random.normal(0.0, pow(self.inodes, -0.5), (self.hnodes, self.inodes))\n",
    "        self.who = numpy.random.normal(0.0, pow(self.hnodes, -0.5), (self.onodes, self.hnodes))\n",
    "\n",
    "        # learning rate\n",
    "        self.lr = learningrate\n",
    "        \n",
    "        # activation function is the sigmoid function\n",
    "        self.activation_function = lambda x: scipy.special.expit(x)\n",
    "        \n",
    "        pass\n",
    "\n",
    "    \n",
    "    # train the neural network\n",
    "    def train(self, inputs_list, targets_list):\n",
    "        # convert inputs list to 2d array\n",
    "        inputs = numpy.array(inputs_list, ndmin=2).T\n",
    "        targets = numpy.array(targets_list, ndmin=2).T\n",
    "        \n",
    "        # calculate signals into hidden layer\n",
    "        hidden_inputs = numpy.dot(self.wih, inputs)\n",
    "        # calculate the signals emerging from hidden layer\n",
    "        hidden_outputs = self.activation_function(hidden_inputs)\n",
    "        \n",
    "        # calculate signals into final output layer\n",
    "        final_inputs = numpy.dot(self.who, hidden_outputs)\n",
    "        # calculate the signals emerging from final output layer\n",
    "        final_outputs = self.activation_function(final_inputs)\n",
    "        \n",
    "        # output layer error is the (target - actual)\n",
    "        output_errors = targets - final_outputs\n",
    "        # hidden layer error is the output_errors, split by weights, recombined at hidden nodes\n",
    "        hidden_errors = numpy.dot(self.who.T, output_errors) \n",
    "        \n",
    "        # update the weights for the links between the hidden and output layers\n",
    "        self.who += self.lr * numpy.dot((output_errors * final_outputs * (1.0 - final_outputs)), numpy.transpose(hidden_outputs))\n",
    "        \n",
    "        # update the weights for the links between the input and hidden layers\n",
    "        self.wih += self.lr * numpy.dot((hidden_errors * hidden_outputs * (1.0 - hidden_outputs)), numpy.transpose(inputs))\n",
    "        \n",
    "        pass\n",
    "\n",
    "    \n",
    "    # query the neural network\n",
    "    def query(self, inputs_list):\n",
    "        # convert inputs list to 2d array\n",
    "        inputs = numpy.array(inputs_list, ndmin=2).T\n",
    "        \n",
    "        # calculate signals into hidden layer\n",
    "        hidden_inputs = numpy.dot(self.wih, inputs)\n",
    "        # calculate the signals emerging from hidden layer\n",
    "        hidden_outputs = self.activation_function(hidden_inputs)\n",
    "        \n",
    "        # calculate signals into final output layer\n",
    "        final_inputs = numpy.dot(self.who, hidden_outputs)\n",
    "        # calculate the signals emerging from final output layer\n",
    "        final_outputs = self.activation_function(final_inputs)\n",
    "        \n",
    "        return final_outputs"
   ]
  },
  {
   "cell_type": "code",
   "execution_count": 27,
   "metadata": {},
   "outputs": [],
   "source": [
    "# number of input, hidden and output nodes\n",
    "input_nodes = 784\n",
    "hidden_nodes = 700\n",
    "output_nodes = 10\n",
    "\n",
    "# learning rate\n",
    "learning_rate = 0.155\n",
    "\n",
    "# create instance of neural network\n",
    "n = neuralNetwork(input_nodes,hidden_nodes,output_nodes, learning_rate)"
   ]
  },
  {
   "cell_type": "markdown",
   "metadata": {},
   "source": [
    "## Load model ANN"
   ]
  },
  {
   "cell_type": "code",
   "execution_count": 28,
   "metadata": {},
   "outputs": [
    {
     "name": "stdout",
     "output_type": "stream",
     "text": [
      "Model loaded from my_model.\n"
     ]
    }
   ],
   "source": [
    "# Hàm tải mô hình\n",
    "def load_model(filename, input_nodes, hidden_nodes, output_nodes, learning_rate):\n",
    "    # Tải trọng số từ file\n",
    "    wih = numpy.load(filename + '_wih.npy')\n",
    "    who = numpy.load(filename + '_who.npy')\n",
    "    \n",
    "    # Tạo một mô hình mới với các trọng số đã tải\n",
    "    network = neuralNetwork(input_nodes, hidden_nodes, output_nodes, learning_rate)\n",
    "    network.wih = wih\n",
    "    network.who = who\n",
    "    print(f\"Model loaded from {filename}.\")\n",
    "    \n",
    "    return network\n",
    "\n",
    "# Tải mô hình đã lưu\n",
    "n_loaded = load_model('my_model', input_nodes, hidden_nodes, output_nodes, learning_rate)"
   ]
  },
  {
   "cell_type": "markdown",
   "metadata": {},
   "source": [
    "## Checking performance\n"
   ]
  },
  {
   "cell_type": "code",
   "execution_count": 29,
   "metadata": {},
   "outputs": [],
   "source": [
    "# load the mnist test data CSV file into a list\n",
    "test_data_file1 = open(\"mnist_dataset/mnist_test.csv\", 'r')\n",
    "test_data_file2 = open(\"mnist_dataset/mnist_test_10.csv\", 'r')\n",
    "\n",
    "# read all lines into a list\n",
    "test_data_list1 = test_data_file1.readlines()\n",
    "test_data_list2 = test_data_file2.readlines()\n",
    "\n",
    "# close the files\n",
    "test_data_file1.close()\n",
    "test_data_file2.close()\n",
    "\n",
    "# concatenate the two lists\n",
    "test_data_list = test_data_list1 + test_data_list2\n"
   ]
  },
  {
   "cell_type": "code",
   "execution_count": 30,
   "metadata": {},
   "outputs": [
    {
     "data": {
      "image/png": "[encoded data removed]",
      "text/plain": [
       "<Figure size 1000x500 with 1 Axes>"
      ]
     },
     "metadata": {},
     "output_type": "display_data"
    }
   ],
   "source": [
    "import numpy as np\n",
    "import matplotlib.pyplot as plt\n",
    "\n",
    "# scorecard for how well the network performs, initially empty\n",
    "scorecard = []\n",
    "\n",
    "# list to store error rate after each test\n",
    "error_progress = []\n",
    "window_size = 10  # Kích thước cửa sổ trung bình động\n",
    "error_trend = []\n",
    "\n",
    "# go through all the records in the test data set\n",
    "for i, record in enumerate(test_data_list):\n",
    "    # split the record by the ',' commas\n",
    "    all_values = record.split(',')\n",
    "    # correct answer is first value\n",
    "    correct_label = int(all_values[0])\n",
    "    # scale and shift the inputs\n",
    "    inputs = (np.asarray(all_values[1:], dtype=float) / 255.0 * 0.99) + 0.01\n",
    "    # query the network\n",
    "    outputs = n.query(inputs)\n",
    "    # the index of the highest value corresponds to the label\n",
    "    label = np.argmax(outputs)\n",
    "    # append correct or incorrect to list\n",
    "    scorecard.append(1 if label == correct_label else 0)\n",
    "    \n",
    "    # calculate error rate after each test and store it\n",
    "    error_rate = 1 - sum(scorecard) / len(scorecard)  # in percentage\n",
    "    error_progress.append(error_rate)\n",
    "    \n",
    "    # Calculate cumulative moving average (trend line)\n",
    "    trend_value = np.mean(error_progress)\n",
    "    error_trend.append(trend_value)\n",
    "\n",
    "# plot the error rate progress\n",
    "plt.figure(figsize=(10, 5))\n",
    "plt.plot(error_progress, color='red', label='Error Rate')\n",
    "plt.plot(error_trend, color='blue', label='Error Rate Trend')\n",
    "plt.xlabel(\"Number of Tests\")\n",
    "plt.ylabel(\"Error Rate\")\n",
    "plt.title(\"Error Rate Progress of Neural Network\")\n",
    "plt.legend()\n",
    "plt.grid(True)\n",
    "plt.show()\n"
   ]
  },
  {
   "cell_type": "code",
   "execution_count": 31,
   "metadata": {},
   "outputs": [
    {
     "name": "stdout",
     "output_type": "stream",
     "text": [
      "performance =  0.11638361638361638\n"
     ]
    }
   ],
   "source": [
    "# calculate the performance score, the fraction of correct answers\n",
    "scorecard_array = numpy.asarray(scorecard)\n",
    "print (\"performance = \", scorecard_array.sum() / scorecard_array.size)"
   ]
  },
  {
   "cell_type": "markdown",
   "metadata": {},
   "source": [
    "## Handwritting input"
   ]
  },
  {
   "cell_type": "code",
   "execution_count": 32,
   "metadata": {},
   "outputs": [
    {
     "name": "stdout",
     "output_type": "stream",
     "text": [
      "loading ... t3.png\n",
      "0.01\n",
      "1.0\n",
      "Dataset loaded with 1 images\n"
     ]
    }
   ],
   "source": [
    "from PIL import Image\n",
    "\n",
    "import matplotlib.pyplot as plt\n",
    "our_own_dataset = []\n",
    "\n",
    "# load the png image data as test data set\n",
    "for image_file_name in glob.glob('t3.png'):\n",
    "    \n",
    "    # load image data and resize to 28x28 using PIL\n",
    "    print(\"loading ...\", image_file_name)\n",
    "    img = Image.open(image_file_name).convert('L')  # convert to grayscale\n",
    "    img_resized = img.resize((28, 28))  # resize to 28x28\n",
    "    \n",
    "    # convert image to numpy array\n",
    "    img_array = numpy.array(img_resized).astype(float)\n",
    "    \n",
    "    # reshape from 28x28 to list of 784 values, invert values\n",
    "    img_data = 255.0 - img_array.reshape(784)\n",
    "    \n",
    "    # then scale data to range from 0.01 to 1.0\n",
    "    img_data = (img_data / 255.0 * 0.99) + 0.01\n",
    "    print(numpy.min(img_data))\n",
    "    print(numpy.max(img_data))\n",
    "    \n",
    "    # append label and image data to test data set\n",
    "    our_own_dataset.append(img_data)\n",
    "\n",
    "print(\"Dataset loaded with\", len(our_own_dataset), \"images\")\n"
   ]
  },
  {
   "cell_type": "markdown",
   "metadata": {},
   "source": [
    "## Ouput"
   ]
  },
  {
   "cell_type": "code",
   "execution_count": 33,
   "metadata": {},
   "outputs": [
    {
     "name": "stdout",
     "output_type": "stream",
     "text": [
      "[[0.02183452]\n",
      " [0.00291289]\n",
      " [0.26640057]\n",
      " [0.00315948]\n",
      " [0.03229087]\n",
      " [0.0025998 ]\n",
      " [0.00298135]\n",
      " [0.0199675 ]\n",
      " [0.01659818]\n",
      " [0.77027952]]\n",
      "Predicted label:  9\n",
      "Confidence: 77.03%\n"
     ]
    },
    {
     "data": {
      "image/png": "[encoded data removed]",
      "text/plain": [
       "<Figure size 640x480 with 1 Axes>"
      ]
     },
     "metadata": {},
     "output_type": "display_data"
    }
   ],
   "source": [
    "# test the neural network with our own images\n",
    "\n",
    "# record to test\n",
    "item = 0\n",
    "\n",
    "# plot image\n",
    "plt.imshow(our_own_dataset[item].reshape(28, 28), cmap='Greys', interpolation='None')\n",
    "\n",
    "# correct answer is first value\n",
    "correct_label = our_own_dataset[item][0]\n",
    "# data is remaining values\n",
    "inputs = our_own_dataset[item]\n",
    "\n",
    "# query the network\n",
    "outputs = n_loaded.query(inputs)\n",
    "print (outputs)\n",
    "\n",
    "# the index of the highest value corresponds to the label\n",
    "label = numpy.argmax(outputs)\n",
    "print(\"Predicted label: \", label)\n",
    "\n",
    "confidence = outputs[label].item() * 100\n",
    "print(f\"Confidence: {confidence:.2f}%\")\n",
    "\n",
    "plt.title(f\"Predicted: {label}, Confident: {confidence:.2f}%\")\n",
    "plt.show()\n",
    "user_check = input(\"Is right? (y/n): \").strip().lower()\n"
   ]
  },
  {
   "cell_type": "code",
   "execution_count": 34,
   "metadata": {},
   "outputs": [
    {
     "name": "stdout",
     "output_type": "stream",
     "text": [
      "Loading ... test.png\n"
     ]
    },
    {
     "data": {
      "image/png": "[encoded data removed]",
      "text/plain": [
       "<Figure size 640x480 with 1 Axes>"
      ]
     },
     "metadata": {},
     "output_type": "display_data"
    }
   ],
   "source": [
    "import csv\n",
    "from PIL import Image\n",
    "import numpy as np\n",
    "import matplotlib.pyplot as plt\n",
    "\n",
    "if user_check == 'n':\n",
    "    # Đường dẫn file CSV để lưu dữ liệu ảnh sai\n",
    "    incorrect_data_file = 'mnist_dataset/incorrect_images.csv'\n",
    "    # Đường dẫn ảnh cần xử lý\n",
    "    image_file_name = 'test.png'  # Thay đổi tên file ảnh tại đây\n",
    "\n",
    "    # Mở file CSV để ghi dữ liệu ảnh sai\n",
    "    with open(incorrect_data_file, 'a', newline='') as outfile:\n",
    "        writer = csv.writer(outfile)\n",
    "\n",
    "        print(\"Loading ...\", image_file_name)\n",
    "        # Mở và resize ảnh về 28x28\n",
    "        img = Image.open(image_file_name).convert('L')\n",
    "        img_resized = img.resize((28, 28))\n",
    "        \n",
    "        # Chuyển ảnh thành mảng numpy 1D\n",
    "        img_array = np.array(img_resized).reshape(784).astype(float)\n",
    "        \n",
    "        # Invert giá trị ảnh và scale về khoảng [0.01, 1.0]\n",
    "        img_data = 255.0 - img_array  # Invert giá trị (trắng -> đen, đen -> trắng)\n",
    "        img_data = (img_data / 255.0 * 0.99) + 0.01  # Scale về [0.01, 1.0]\n",
    "        \n",
    "        # In ra ảnh trước khi hỏi người dùng\n",
    "        plt.imshow(img_data.reshape(28, 28), cmap='Greys', interpolation='None')\n",
    "        plt.title(\"Check if the image is correct\")\n",
    "        plt.show()\n",
    "\n",
    "        # Hỏi người dùng xem ảnh có đúng không\n",
    "        user_input = input(\"Is it right? (y/n): \").strip().lower()\n",
    "        \n",
    "        if user_input == 'y':\n",
    "            # Yêu cầu người dùng nhập nhãn\n",
    "            label = input(\"Please enter the correct label for this image: \").strip()\n",
    "            # Kiểm tra nhãn có phải là số hay không\n",
    "            while not label.isdigit():\n",
    "                print(\"Invalid label. Please enter a number.\")\n",
    "                label = input(\"Please enter the correct label for this image: \").strip()\n",
    "            \n",
    "            # Chuyển nhãn thành số nguyên\n",
    "            label = int(label)\n",
    "            \n",
    "            # Lưu nhãn và dữ liệu ảnh vào file CSV\n",
    "            writer.writerow([label] + img_data.tolist())\n"
   ]
  }
 ],
 "metadata": {
  "kernelspec": {
   "display_name": "Python 3",
   "language": "python",
   "name": "python3"
  },
  "language_info": {
   "codemirror_mode": {
    "name": "ipython",
    "version": 3
   },
   "file_extension": ".py",
   "mimetype": "text/x-python",
   "name": "python",
   "nbconvert_exporter": "python",
   "pygments_lexer": "ipython3",
   "version": "3.11.9"
  }
 },
 "nbformat": 4,
 "nbformat_minor": 1
}
